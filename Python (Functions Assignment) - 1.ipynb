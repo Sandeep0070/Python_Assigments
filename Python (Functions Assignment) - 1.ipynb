{
 "cells": [
  {
   "cell_type": "markdown",
   "metadata": {},
   "source": [
    "### Q1. In Python, what is the difference between a built-in function and a user-defined function? Provide an example of each."
   ]
  },
  {
   "cell_type": "markdown",
   "metadata": {},
   "source": [
    "#### Built-in Functions:\n",
    "Definition:\n",
    "\n",
    "Built-in functions are functions that are already provided by the Python interpreter.\n",
    "These functions are part of the Python standard library and cover a wide range of common tasks.\n",
    "\n",
    "Examples include print(), len(), max(), min(), type(), etc.\n",
    "\n",
    "#### User-Defined Functions:\n",
    "Definition:\n",
    "\n",
    "User-defined functions are functions that are created by the user (programmer).\n",
    "These functions are defined to perform a specific task, and users can create as many functions as needed for their programs.\n",
    "Functions are defined using the def keyword."
   ]
  },
  {
   "cell_type": "code",
   "execution_count": 1,
   "metadata": {},
   "outputs": [
    {
     "name": "stdout",
     "output_type": "stream",
     "text": [
      "Sum: 8\n"
     ]
    }
   ],
   "source": [
    "# Example of a user-defined function: add_numbers()\n",
    "def add_numbers(a, b):\n",
    "    result = a + b\n",
    "    return result\n",
    "\n",
    "# Calling the user-defined function\n",
    "sum_result = add_numbers(3, 5)\n",
    "print(\"Sum:\", sum_result)\n"
   ]
  },
  {
   "cell_type": "markdown",
   "metadata": {},
   "source": [
    "### Q 2. How can you pass arguments to a function in Python? Explain the difference between positional arguments and keyword arguments."
   ]
  },
  {
   "cell_type": "markdown",
   "metadata": {},
   "source": [
    "#### 1. Positional Arguments:\n",
    "Definition:\n",
    "\n",
    "Positional arguments are the most straightforward way to pass values to a function.\n",
    "The order in which arguments are passed determines their association with the parameters in the function definition.\n",
    "The values are matched with the parameters based on their positions.\n",
    "\n",
    "#### 2. Keyword Arguments:\n",
    "Definition:\n",
    "\n",
    "Keyword arguments involve passing values to a function by explicitly mentioning the parameter names along with the values.\n",
    "This allows you to pass values in a different order than the order of parameters in the function definition.\n",
    "Keyword arguments make the function call more readable, especially when dealing with functions with a large number of parameters.\n",
    "\n",
    "####  Difference between Positional and Keyword Arguments:\n",
    "Positional Arguments:\n",
    "\n",
    "Values are matched with parameters based on their positions.\n",
    "The order of values in the function call matters.\n",
    "Example: add_numbers(3, 5).\n",
    "\n",
    "Keyword Arguments:\n",
    "\n",
    "Values are explicitly associated with parameters using parameter names.\n",
    "The order of values can be different from the order of parameters in the function definition.\n",
    "Example: greet(greeting=\"Hello\", name=\"John\")."
   ]
  },
  {
   "cell_type": "markdown",
   "metadata": {},
   "source": [
    "### Q 3. What is the purpose of the return statement in a function? Can a function have multiple return statements? Explain with an example."
   ]
  },
  {
   "cell_type": "markdown",
   "metadata": {},
   "source": [
    "It specifies the value(s) that the function should return when it is called.\n",
    "The function can perform computations or tasks and then provide a result back to the calling code."
   ]
  },
  {
   "cell_type": "markdown",
   "metadata": {},
   "source": [
    "##### Can a Function Have Multiple return Statements?\n",
    "Yes, a function can have multiple return statements. However, once a return statement is encountered, the function exits, and no further code in the function is executed. The purpose of having multiple return statements is to conditionally return different values based on certain conditions."
   ]
  },
  {
   "cell_type": "code",
   "execution_count": 4,
   "metadata": {},
   "outputs": [
    {
     "name": "stdout",
     "output_type": "stream",
     "text": [
      "The student's performance is: Good\n"
     ]
    }
   ],
   "source": [
    "# Function with multiple return statements\n",
    "def find_category(score):\n",
    "    if score >= 90:\n",
    "        return \"Excellent\"\n",
    "    elif score >= 70:\n",
    "        return \"Good\"\n",
    "    elif score >= 50:\n",
    "        return \"Average\"\n",
    "    else:\n",
    "        return \"Needs Improvement\"\n",
    "\n",
    "# Example of calling the function\n",
    "student_score = 85\n",
    "result = find_category(student_score)\n",
    "\n",
    "# Print the result\n",
    "print(f\"The student's performance is: {result}\")\n"
   ]
  },
  {
   "cell_type": "markdown",
   "metadata": {},
   "source": [
    "### 4. What are lambda functions in Python? How are they different from regular functions? Provide an example where a lambda function can be useful."
   ]
  },
  {
   "cell_type": "markdown",
   "metadata": {},
   "source": [
    "#### Lambda Functions in Python:\n",
    "In Python, a lambda function is a small, anonymous function defined using the lambda keyword. Lambda functions are also known as anonymous functions because they don't have a name like regular functions defined using the def keyword.\n",
    "\n",
    "#### Differences from Regular Functions:\n",
    "Anonymous:\n",
    "\n",
    "Lambda functions are anonymous, meaning they don't have a name.\n",
    "Regular functions are defined using the def keyword and have a name.\n",
    "Single Expression:\n",
    "\n",
    "Lambda functions are restricted to a single expression.\n",
    "Regular functions can contain multiple statements and have a more complex structure.\n",
    "Conciseness:\n",
    "\n",
    "Lambda functions are often used for short, simple operations where brevity is valued.\n",
    "Regular functions are used for more complex tasks and when a block of code needs to be executed"
   ]
  },
  {
   "cell_type": "code",
   "execution_count": 5,
   "metadata": {},
   "outputs": [
    {
     "name": "stdout",
     "output_type": "stream",
     "text": [
      "25\n",
      "25\n"
     ]
    }
   ],
   "source": [
    "# Regular function to calculate the square of a number\n",
    "def square(x):\n",
    "    return x ** 2\n",
    "\n",
    "# Lambda function to calculate the square of a number\n",
    "square_lambda = lambda x: x ** 2\n",
    "\n",
    "# Example usage\n",
    "print(square(5))          # Output: 25\n",
    "print(square_lambda(5))   # Output: 25\n"
   ]
  },
  {
   "cell_type": "markdown",
   "metadata": {},
   "source": [
    "### Q 5. How does the concept of \"scope\" apply to functions in Python? Explain the difference between local scope and global scope."
   ]
  },
  {
   "cell_type": "markdown",
   "metadata": {},
   "source": [
    "#### Local Scope:\n",
    "##### Local Variables:\n",
    "Variables defined inside a function have local scope.\n",
    "They are only accessible within that function.\n",
    "They are created when the function is called and destroyed when the function exits.\n",
    "\n",
    "#### Global Scope:\n",
    "##### Global Variables:\n",
    "Variables defined outside of any function or block have global scope.\n",
    "They are accessible throughout the entire program.\n",
    "They are created when the program starts and persist until the program terminates.\n",
    "\n",
    "#### Difference between Local and Global Scope:\n",
    "###### Visibility:\n",
    "\n",
    "Local variables are only visible within the function they are defined.\n",
    "Global variables are visible throughout the entire program.\n",
    "###### Lifetime:\n",
    "\n",
    "Local variables have a shorter lifetime; they are created when the function is called and destroyed when the function exits.\n",
    "Global variables have a longer lifetime; they persist as long as the program is running.\n",
    "###### Name Conflicts:\n",
    "\n",
    "A local variable with the same name as a global variable will overshadow the global variable within the function.\n",
    "Changes to a global variable within a function require the use of the global keyword."
   ]
  },
  {
   "cell_type": "code",
   "execution_count": 6,
   "metadata": {},
   "outputs": [
    {
     "name": "stdout",
     "output_type": "stream",
     "text": [
      "5\n",
      "30\n"
     ]
    }
   ],
   "source": [
    "z = 30  # Global variable\n",
    "\n",
    "def function_with_name_conflict():\n",
    "    z = 5  # Local variable with the same name as the global variable\n",
    "    print(z)\n",
    "\n",
    "function_with_name_conflict()  # Outputs the local variable (z = 5)\n",
    "print(z)  # Outputs the global variable (z = 30)\n"
   ]
  },
  {
   "cell_type": "markdown",
   "metadata": {},
   "source": [
    "### Q 6. How can you use the \"return\" statement in a Python function to return multiple values?"
   ]
  },
  {
   "cell_type": "code",
   "execution_count": 8,
   "metadata": {},
   "outputs": [
    {
     "name": "stdout",
     "output_type": "stream",
     "text": [
      "10\n",
      "Hello\n",
      "[1, 2, 3]\n"
     ]
    }
   ],
   "source": [
    "def multiple_values():\n",
    "    # Multiple values packed into a tuple\n",
    "    result1 = 10\n",
    "    result2 = \"Hello\"\n",
    "    result3 = [1, 2, 3]\n",
    "    return result1, result2, result3\n",
    "\n",
    "# Calling the function and unpacking the returned tuple\n",
    "value1, value2, value3 = multiple_values()\n",
    "\n",
    "# Print the values\n",
    "print(value1)  # Output: 10\n",
    "print(value2)  # Output: Hello\n",
    "print(value3)  # Output: [1, 2, 3]\n"
   ]
  },
  {
   "cell_type": "code",
   "execution_count": 10,
   "metadata": {},
   "outputs": [
    {
     "name": "stdout",
     "output_type": "stream",
     "text": [
      "10\n",
      "Hello\n",
      "[1, 2, 3]\n"
     ]
    }
   ],
   "source": [
    "def multiple_values_list():\n",
    "    # Multiple values packed into a list\n",
    "    result1 = 10\n",
    "    result2 = \"Hello\"\n",
    "    result3 = [1, 2, 3]\n",
    "    return [result1, result2, result3]\n",
    "\n",
    "# Calling the function and unpacking the returned list\n",
    "values_list = multiple_values_list()\n",
    "value1, value2, value3 = values_list\n",
    "\n",
    "# Print the values\n",
    "print(value1)  # Output: 10\n",
    "print(value2)  # Output: Hello\n",
    "print(value3)  # Output: [1, 2, 3]\n"
   ]
  },
  {
   "cell_type": "markdown",
   "metadata": {},
   "source": [
    "### 7. What is the difference between the \"pass by value\" and \"pass by reference\" concepts when it comes to function arguments in Python?"
   ]
  },
  {
   "cell_type": "markdown",
   "metadata": {},
   "source": [
    "#### Pass by Object Reference in Python:\n",
    "##### Pass by Object Reference:\n",
    "When a function is called in Python, the references to the objects (values) are passed to the function.\n",
    "The actual objects are not copied; instead, references to the objects are passed to the function.\n",
    "This means that changes made to the mutable objects within the function will affect the original objects."
   ]
  },
  {
   "cell_type": "code",
   "execution_count": 11,
   "metadata": {},
   "outputs": [
    {
     "name": "stdout",
     "output_type": "stream",
     "text": [
      "[99, 2, 3, 4]\n"
     ]
    }
   ],
   "source": [
    "def modify_list(my_list):\n",
    "    # Modifying the list in-place\n",
    "    my_list.append(4)\n",
    "    my_list[0] = 99\n",
    "\n",
    "# Original list\n",
    "numbers = [1, 2, 3]\n",
    "\n",
    "# Calling the function\n",
    "modify_list(numbers)\n",
    "\n",
    "# The original list is modified\n",
    "print(numbers)  # Output: [99, 2, 3, 4]\n"
   ]
  },
  {
   "cell_type": "markdown",
   "metadata": {},
   "source": [
    "### Q 8. Create a function that can intake integer or decimal value and do following operations:\n",
    "a. Logarithmic function (log x)\n",
    "\n",
    "b. Exponential function (exp(x))\n",
    "\n",
    "c. Power function with base 2 (2^x)\n",
    "\n",
    "d. Square root"
   ]
  },
  {
   "cell_type": "code",
   "execution_count": 13,
   "metadata": {},
   "outputs": [
    {
     "name": "stdout",
     "output_type": "stream",
     "text": [
      "Logarithmic Result: 1.3862943611198906\n",
      "Exponential Result: 54.598150033144236\n",
      "Power Result (2^x): 16.0\n",
      "Square Root Result: 2.0\n"
     ]
    }
   ],
   "source": [
    "import math\n",
    "\n",
    "def mathematical_operations(x):\n",
    "\n",
    "    # a. Logarithmic function (log x)\n",
    "    logarithmic_result = math.log(x)\n",
    "\n",
    "    # b. Exponential function (exp(x))\n",
    "    exponential_result = math.exp(x)\n",
    "\n",
    "    # c. Power function with base 2 (2^x)\n",
    "    power_result = math.pow(2, x)\n",
    "\n",
    "    # d. Square root\n",
    "    square_root_result = math.sqrt(x)\n",
    "\n",
    "    # Return the results as a dictionary\n",
    "    results = {\n",
    "        'logarithmic_result': logarithmic_result,\n",
    "        'exponential_result': exponential_result,\n",
    "        'power_result': power_result,\n",
    "        'square_root_result': square_root_result\n",
    "    }\n",
    "\n",
    "    return results\n",
    "\n",
    "# Example usage:\n",
    "input_value = 4.0\n",
    "results = mathematical_operations(input_value)\n",
    "\n",
    "# Print the results\n",
    "print(f\"Logarithmic Result: {results['logarithmic_result']}\")\n",
    "print(f\"Exponential Result: {results['exponential_result']}\")\n",
    "print(f\"Power Result (2^x): {results['power_result']}\")\n",
    "print(f\"Square Root Result: {results['square_root_result']}\")\n"
   ]
  },
  {
   "cell_type": "markdown",
   "metadata": {},
   "source": [
    "### Q 9. Create a function that takes a full name as an argument and returns first name and last name."
   ]
  },
  {
   "cell_type": "code",
   "execution_count": 16,
   "metadata": {},
   "outputs": [
    {
     "name": "stdout",
     "output_type": "stream",
     "text": [
      "First Name: Sandeep\n",
      "Last Name: Waghmare\n"
     ]
    }
   ],
   "source": [
    "def extract_names(full_name):\n",
    "\n",
    "\n",
    "    # Split the full name into a list of words\n",
    "    name_parts = full_name.split()\n",
    "\n",
    "    # If there are at least two parts (first name and last name), extract them\n",
    "    if len(name_parts) >= 2:\n",
    "        first_name = name_parts[0]\n",
    "        last_name = ' '.join(name_parts[1:])  # Join the remaining parts as the last name\n",
    "    else:\n",
    "        # If the full name is incomplete, set both first name and last name to the input\n",
    "        first_name = full_name\n",
    "        last_name = full_name\n",
    "\n",
    "    # Return the extracted names as a tuple\n",
    "    return first_name, last_name\n",
    "\n",
    "# Example usage:\n",
    "full_name_input = \"Sandeep Waghmare\"\n",
    "first_name, last_name = extract_names(full_name_input)\n",
    "\n",
    "# Print the results\n",
    "print(f\"First Name: {first_name}\")\n",
    "print(f\"Last Name: {last_name}\")\n"
   ]
  },
  {
   "cell_type": "code",
   "execution_count": null,
   "metadata": {},
   "outputs": [],
   "source": []
  },
  {
   "cell_type": "code",
   "execution_count": null,
   "metadata": {},
   "outputs": [],
   "source": []
  }
 ],
 "metadata": {
  "kernelspec": {
   "display_name": "Python 3",
   "language": "python",
   "name": "python3"
  },
  "language_info": {
   "codemirror_mode": {
    "name": "ipython",
    "version": 3
   },
   "file_extension": ".py",
   "mimetype": "text/x-python",
   "name": "python",
   "nbconvert_exporter": "python",
   "pygments_lexer": "ipython3",
   "version": "3.8.5"
  }
 },
 "nbformat": 4,
 "nbformat_minor": 4
}
