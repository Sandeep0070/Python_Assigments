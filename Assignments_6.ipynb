{
 "cells": [
  {
   "cell_type": "markdown",
   "metadata": {},
   "source": [
    "### What are keywords in python? Using the keyword library, print all the python keywords."
   ]
  },
  {
   "cell_type": "code",
   "execution_count": 1,
   "metadata": {},
   "outputs": [
    {
     "name": "stdout",
     "output_type": "stream",
     "text": [
      "False\n",
      "None\n",
      "True\n",
      "and\n",
      "as\n",
      "assert\n",
      "async\n",
      "await\n",
      "break\n",
      "class\n",
      "continue\n",
      "def\n",
      "del\n",
      "elif\n",
      "else\n",
      "except\n",
      "finally\n",
      "for\n",
      "from\n",
      "global\n",
      "if\n",
      "import\n",
      "in\n",
      "is\n",
      "lambda\n",
      "nonlocal\n",
      "not\n",
      "or\n",
      "pass\n",
      "raise\n",
      "return\n",
      "try\n",
      "while\n",
      "with\n",
      "yield\n"
     ]
    }
   ],
   "source": [
    "import keyword\n",
    "\n",
    "# Get the list of Python keywords\n",
    "keywords_list = keyword.kwlist\n",
    "\n",
    "# Print each keyword\n",
    "for keyword in keywords_list:\n",
    "    print(keyword)"
   ]
  },
  {
   "cell_type": "markdown",
   "metadata": {},
   "source": [
    "### What are the rules to create variables in python?"
   ]
  },
  {
   "cell_type": "markdown",
   "metadata": {},
   "source": [
    "##### Naming Rules:\n",
    "\n",
    "Variable names can only contain letters (a-z, A-Z), numbers (0-9), and underscores (_).\n",
    "Variable names cannot start with a number.\n",
    "Variable names are case-sensitive, so myVar and myvar are different variables.\n",
    "\n",
    "##### Reserved Words:\n",
    "Avoid using Python reserved words (keywords) as variable names. For example, you cannot use words like if, else, for, while, etc., as variable names.\n",
    "\n",
    "##### Whitespace:\n",
    "\n",
    "Variable names cannot contain spaces. Use underscores to separate words in a variable name if needed (e.g., my_variable).\n",
    "Special Characters:\n",
    "\n",
    "Avoid using special characters like !, @, #, $, %, etc., in variable names. The only exception is the underscore (_)."
   ]
  },
  {
   "cell_type": "markdown",
   "metadata": {},
   "source": [
    "### 3. What are the standards and conventions followed for the nomenclature of variables in python to improve code readability and maintainability?"
   ]
  },
  {
   "cell_type": "markdown",
   "metadata": {},
   "source": [
    "#### 1. Descriptive Names:\n",
    "Choose meaningful and descriptive names for your variables. A variable name should convey the purpose or content of the variable. For example: Instead of x, use num_entries if the variable represents the number of entries.\n",
    "#### 2. Avoid Single-Character Names (in most cases):\n",
    "Single-character variable names (like i, j, k for loop counters) are acceptable in certain contexts, but it's generally better to use more descriptive names. For example: index instead of i.\n",
    "#### 3. Use English Words:\n",
    "Stick to English words for variable names and comments. This helps maintain consistency in your codebase.\n",
    "#### 4. Constants:\n",
    "Constants (values that don't change) should be named with all uppercase letters and underscores. For example: MAX_VALUE, PI.\n",
    "#### 5.Class Names:\n",
    "Class names should follow the CapWords (or CamelCase) convention, where each word's first letter is capitalized. For example: MyClass, CarModel.\n",
    "#### 6.Function Names:\n",
    "Function names should be lowercase with words separated by underscores. For example: calculate_total(), process_data().\n",
    "#### 7.Module Names:\n",
    "Module names should be lowercase and short. Avoid underscores in module names unless necessary for readability. For example: my_module.py, utils.py.\n",
    "#### 8.Private Variables:\n",
    "Variables intended for internal use within a class or module should start with a single underscore. For example: _internal_var.\n",
    "Avoid Shadowing Built-in Names:\n",
    "\n",
    "Avoid using names that are too similar to Python built-in names or commonly used modules to prevent unintentional shadowing."
   ]
  },
  {
   "cell_type": "markdown",
   "metadata": {},
   "source": [
    "### 4. What will happen if a keyword is used as a variable name?"
   ]
  },
  {
   "cell_type": "markdown",
   "metadata": {},
   "source": [
    "If you use a keyword as a variable name in Python, it will result in a syntax error. Keywords are reserved words that have special meanings in the language, and you are not allowed to use them for naming variables, functions, or any other identifiers. If you attempt to use a keyword as a variable name, Python will raise a SyntaxError."
   ]
  },
  {
   "cell_type": "code",
   "execution_count": 7,
   "metadata": {},
   "outputs": [
    {
     "ename": "SyntaxError",
     "evalue": "invalid syntax (<ipython-input-7-159436192221>, line 1)",
     "output_type": "error",
     "traceback": [
      "\u001b[1;36m  File \u001b[1;32m\"<ipython-input-7-159436192221>\"\u001b[1;36m, line \u001b[1;32m1\u001b[0m\n\u001b[1;33m    if = 10  # This will raise a SyntaxError\u001b[0m\n\u001b[1;37m       ^\u001b[0m\n\u001b[1;31mSyntaxError\u001b[0m\u001b[1;31m:\u001b[0m invalid syntax\n"
     ]
    }
   ],
   "source": [
    "if = 10  # This will raise a SyntaxError\n"
   ]
  },
  {
   "cell_type": "markdown",
   "metadata": {},
   "source": [
    "### 5. For what purpose def keyword is used?"
   ]
  },
  {
   "cell_type": "markdown",
   "metadata": {},
   "source": [
    "The def keyword in Python is used to define a function. Functions are blocks of reusable code that perform a specific task. By defining functions, you can organize your code into modular and manageable pieces, making it easier to read, understand, and maintain."
   ]
  },
  {
   "cell_type": "code",
   "execution_count": 6,
   "metadata": {},
   "outputs": [],
   "source": [
    "def function_name(parameters):\n",
    "    # Code block\n",
    "    # Indented statements defining the function's behavior\n",
    "    return result  # Optional return statement\n"
   ]
  },
  {
   "cell_type": "markdown",
   "metadata": {},
   "source": [
    "### 6. What is the operation of this special character ‘\\’?"
   ]
  },
  {
   "cell_type": "markdown",
   "metadata": {},
   "source": [
    "In Python, the backslash (\\) is used as an escape character. It indicates that the character following it has a special meaning. Here are some common uses of the backslash in Python:\n",
    "\n",
    "Escape Sequences:\n",
    "\n",
    "The backslash is used to create escape sequences, which are special characters that represent non-printable or special characters. For example:\n",
    "#####  \\n: Newline\n",
    "#####  \\t: Tab\n",
    "#####  \\': Single quote\n",
    "#####  \\\": Double quote\n",
    "#####  \\\\: Backslash itself"
   ]
  },
  {
   "cell_type": "code",
   "execution_count": 8,
   "metadata": {},
   "outputs": [
    {
     "name": "stdout",
     "output_type": "stream",
     "text": [
      "This is a new line.\n",
      "This is a tabbed line.\n",
      "And this is a backslash: \\\n"
     ]
    }
   ],
   "source": [
    "print(\"This is a new line.\\nThis is a tabbed line.\\nAnd this is a backslash: \\\\\")\n"
   ]
  },
  {
   "cell_type": "markdown",
   "metadata": {},
   "source": [
    "###### Multiline Strings:\n",
    "\n",
    "The backslash can be used at the end of a line to indicate that the string continues on the next line. This is useful for creating readable multiline strings."
   ]
  },
  {
   "cell_type": "code",
   "execution_count": 10,
   "metadata": {},
   "outputs": [
    {
     "name": "stdout",
     "output_type": "stream",
     "text": [
      "This is a long line that continues on the next line.\n"
     ]
    }
   ],
   "source": [
    "multiline_string = \"This is a long line \\\n",
    "that continues on the next line.\"\n",
    "print(multiline_string)\n"
   ]
  },
  {
   "cell_type": "markdown",
   "metadata": {},
   "source": [
    "### 7. Give an example of the following conditions:\n",
    "##### (i) Homogeneous list\n",
    "##### (ii) Heterogeneous set\n",
    "##### (iii) Homogeneous tuple"
   ]
  },
  {
   "cell_type": "markdown",
   "metadata": {},
   "source": [
    "#### (i) Homogeneous List:\n",
    "A homogeneous list is a list where all elements are of the same data type. Here's an example of a homogeneous list of integers:\n",
    "\n",
    "integer_list = [1, 2, 3, 4, 5]\n"
   ]
  },
  {
   "cell_type": "markdown",
   "metadata": {},
   "source": [
    "##### (ii) Heterogeneous Set:\n",
    "A heterogeneous set is a set where elements can be of different data types. Here's an example of a heterogeneous set:\n",
    "\n",
    "heterogeneous_set = {1, 'apple', 3.14, (1, 2, 3)}\n"
   ]
  },
  {
   "cell_type": "markdown",
   "metadata": {},
   "source": [
    "#### (iii) Homogeneous Tuple:\n",
    "A homogeneous tuple is a tuple where all elements are of the same data type. Here's an example of a homogeneous tuple of strings:\n",
    "\n",
    "string_tuple = ('apple', 'banana', 'orange', 'kiwi')\n"
   ]
  },
  {
   "cell_type": "markdown",
   "metadata": {},
   "source": [
    "### Q.8. Explain the mutable and immutable data types with proper explanation & examples."
   ]
  },
  {
   "cell_type": "markdown",
   "metadata": {},
   "source": [
    "#### Mutable Data Types:\n",
    "Definition: Mutable objects are objects whose value or content can be changed after creation. In other words, you can modify the state or content of a mutable object.\n",
    "\n",
    "Examples:\n",
    "\n",
    "##### Lists:\n",
    "\n",
    "Lists in Python are mutable. You can add, remove, or modify elements in a list after it has been created."
   ]
  },
  {
   "cell_type": "code",
   "execution_count": 12,
   "metadata": {},
   "outputs": [
    {
     "name": "stdout",
     "output_type": "stream",
     "text": [
      "[10, 2, 3]\n"
     ]
    }
   ],
   "source": [
    "my_list = [1, 2, 3]\n",
    "my_list[0] = 10\n",
    "print(my_list)  # Output: [10, 2, 3]\n"
   ]
  },
  {
   "cell_type": "markdown",
   "metadata": {},
   "source": [
    "##### 2.Dictionaries:\n",
    "\n",
    "Dictionaries are also mutable. You can add, remove, or modify key-value pairs in a dictionary."
   ]
  },
  {
   "cell_type": "markdown",
   "metadata": {},
   "source": [
    "#### Immutable Data Types:\n",
    "Definition: Immutable objects are objects whose value or content cannot be changed after creation. If you want to change the value, a new object must be created.\n",
    "\n",
    "Examples:\n",
    "\n",
    "##### 1.Tuples:\n",
    "Tuples are immutable. Once a tuple is created, you cannot modify its elements."
   ]
  },
  {
   "cell_type": "code",
   "execution_count": null,
   "metadata": {},
   "outputs": [],
   "source": [
    "my_tuple = (1, 2, 3)\n",
    "# This will result in an error: 'tuple' object does not support item assignment\n",
    "my_tuple[0] = 10\n"
   ]
  },
  {
   "cell_type": "markdown",
   "metadata": {},
   "source": [
    "#### 2. Strings:\n",
    "\n",
    "Strings are also immutable. You cannot change individual characters of a string after it is created."
   ]
  },
  {
   "cell_type": "code",
   "execution_count": null,
   "metadata": {},
   "outputs": [],
   "source": [
    "my_string = \"hello\"\n",
    "# This will result in an error: 'str' object does not support item assignment\n",
    "my_string[0] = 'H'\n"
   ]
  },
  {
   "cell_type": "markdown",
   "metadata": {},
   "source": [
    "### Q.9. Write a code to create the given structure using only for loop.\n",
    "#####      *\n",
    "#####     ***\n",
    "#####    *****\n",
    "#####   *******\n",
    "#####  *********"
   ]
  },
  {
   "cell_type": "code",
   "execution_count": 14,
   "metadata": {},
   "outputs": [
    {
     "name": "stdout",
     "output_type": "stream",
     "text": [
      "    *\n",
      "   ***\n",
      "  *****\n",
      " *******\n",
      "*********\n"
     ]
    }
   ],
   "source": [
    "# Number of rows in the structure\n",
    "num_rows = 5\n",
    "\n",
    "# Outer loop for rows\n",
    "for i in range(num_rows):\n",
    "    # Inner loop for printing spaces before the asterisks\n",
    "    for j in range(num_rows - i - 1):\n",
    "        print(' ', end='')\n",
    "    # Inner loop for printing asterisks in each row\n",
    "    for k in range(2 * i + 1):\n",
    "        print('*', end='')\n",
    "    # Move to the next line after printing each row\n",
    "    print()\n"
   ]
  },
  {
   "cell_type": "markdown",
   "metadata": {},
   "source": [
    "### 10. Write a code to create the given structure using while loop."
   ]
  },
  {
   "cell_type": "code",
   "execution_count": 19,
   "metadata": {},
   "outputs": [
    {
     "name": "stdout",
     "output_type": "stream",
     "text": [
      "|||||||||\n",
      " |||||||\n",
      "  |||||\n",
      "   |||\n",
      "    |\n"
     ]
    }
   ],
   "source": [
    "# Number of rows in the pattern\n",
    "num_rows = 5\n",
    "\n",
    "# Outer loop for rows\n",
    "for i in range(num_rows):\n",
    "    # Inner loop for printing spaces before the asterisks\n",
    "    for j in range(i):\n",
    "        print(' ', end='')\n",
    "\n",
    "    # Inner loop for printing asterisks in each row\n",
    "    for k in range(2 * (num_rows - i) - 1):\n",
    "        print('|', end='')\n",
    "\n",
    "    # Move to the next line after printing each row\n",
    "    print()\n",
    "\n"
   ]
  },
  {
   "cell_type": "code",
   "execution_count": null,
   "metadata": {},
   "outputs": [],
   "source": []
  }
 ],
 "metadata": {
  "kernelspec": {
   "display_name": "Python 3",
   "language": "python",
   "name": "python3"
  },
  "language_info": {
   "codemirror_mode": {
    "name": "ipython",
    "version": 3
   },
   "file_extension": ".py",
   "mimetype": "text/x-python",
   "name": "python",
   "nbconvert_exporter": "python",
   "pygments_lexer": "ipython3",
   "version": "3.8.5"
  }
 },
 "nbformat": 4,
 "nbformat_minor": 4
}
