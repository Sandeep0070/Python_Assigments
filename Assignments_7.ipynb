{
 "cells": [
  {
   "cell_type": "markdown",
   "metadata": {},
   "source": [
    "### Q.1. Create two int type variables, apply addition, subtraction, division and multiplications and store the results in variables. Then print the data in the following format by calling the variables:\n",
    "First variable is __ & second variable is __.\n",
    "###### Addition: __ + __ = __\n",
    "###### Subtraction: __ - __ = __\n",
    "###### Multiplication: __ * __ = __\n",
    "###### Division: __ / __ = __"
   ]
  },
  {
   "cell_type": "code",
   "execution_count": 5,
   "metadata": {},
   "outputs": [
    {
     "name": "stdout",
     "output_type": "stream",
     "text": [
      "First variable is 10 & second variable is 5.\n",
      "Addition: 10 + 5 = 15\n",
      "Subtraction: 10 - 5 = 5\n",
      "Multiplication: 10 * 5 = 50\n",
      "Division: 10 / 5 = 2.0\n"
     ]
    }
   ],
   "source": [
    "# Create two int type variables\n",
    "first_variable = 10\n",
    "second_variable = 5\n",
    "\n",
    "# Perform addition, subtraction, multiplication, and division\n",
    "addition_result = first_variable + second_variable\n",
    "subtraction_result = first_variable - second_variable\n",
    "multiplication_result = first_variable * second_variable\n",
    "\n",
    "# Check if the second variable is not zero before performing division\n",
    "if second_variable != 0:\n",
    "    division_result = first_variable / second_variable\n",
    "else:\n",
    "    division_result = \"Undefined (division by zero)\"\n",
    "\n",
    "# Print the results in the specified format\n",
    "print(f\"First variable is {first_variable} & second variable is {second_variable}.\")\n",
    "print(f\"Addition: {first_variable} + {second_variable} = {addition_result}\")\n",
    "print(f\"Subtraction: {first_variable} - {second_variable} = {subtraction_result}\")\n",
    "print(f\"Multiplication: {first_variable} * {second_variable} = {multiplication_result}\")\n",
    "print(f\"Division: {first_variable} / {second_variable} = {division_result}\")\n"
   ]
  },
  {
   "cell_type": "markdown",
   "metadata": {},
   "source": [
    "### Q.2. What is the difference between the following operators:\n",
    "##### (i) ‘/’ & ‘//’\n",
    "##### (ii) ‘**’ & ‘^’"
   ]
  },
  {
   "cell_type": "markdown",
   "metadata": {},
   "source": [
    "#### (i) Difference between '/' and '//':\n",
    "/ (Division Operator):\n",
    "\n",
    "The / operator is the standard division operator in Python.\n",
    "It performs floating-point division, meaning that it returns a floating-point result even if the operands are integers.\n",
    "Example: 5 / 2 will result in 2.5.\n",
    "    \n",
    "// (Floor Division Operator):\n",
    "\n",
    "The // operator is the floor division operator.\n",
    "It performs division and rounds down to the nearest integer, returning an integer result.\n",
    "Example: 5 // 2 will result in 2."
   ]
  },
  {
   "cell_type": "code",
   "execution_count": 7,
   "metadata": {},
   "outputs": [
    {
     "name": "stdout",
     "output_type": "stream",
     "text": [
      "3.3333333333333335\n",
      "3\n"
     ]
    }
   ],
   "source": [
    "a = 10\n",
    "b = 3\n",
    "\n",
    "result_division = a / b  # Results in a floating-point division\n",
    "result_floor_division = a // b  # Results in integer division (floor division)\n",
    "\n",
    "print(result_division)        # Output: 3.3333333333333335\n",
    "print(result_floor_division)  # Output: 3\n"
   ]
  },
  {
   "cell_type": "markdown",
   "metadata": {},
   "source": [
    "#### (ii) Difference between ** and ^:\n",
    "** (Exponentiation Operator):\n",
    "\n",
    "The ** operator is used for exponentiation.\n",
    "It raises the left operand to the power of the right operand.\n",
    "Example: 2 ** 3 results in 8 (2 raised to the power of 3).\n",
    "\n",
    "^ (Bitwise XOR Operator):\n",
    "\n",
    "The ^ operator is the bitwise XOR (exclusive OR) operator.\n",
    "It performs bitwise XOR on corresponding bits of the operands.\n",
    "Example: 5 ^ 3 results in 6 (binary 101 ^ 011 is 110, which is 6 in decimal)."
   ]
  },
  {
   "cell_type": "code",
   "execution_count": 11,
   "metadata": {},
   "outputs": [
    {
     "name": "stdout",
     "output_type": "stream",
     "text": [
      "8\n",
      "6\n"
     ]
    }
   ],
   "source": [
    "base = 2\n",
    "exponent = 3\n",
    "\n",
    "result_exponentiation = base ** exponent  # Results in exponentiation\n",
    "result_xor = 5 ^ 3                       # Results in bitwise XOR\n",
    "\n",
    "print(result_exponentiation)  # Output: 8\n",
    "print(result_xor)             # Output: 6\n"
   ]
  },
  {
   "cell_type": "markdown",
   "metadata": {},
   "source": [
    "### Q.3. List the logical operators."
   ]
  },
  {
   "cell_type": "markdown",
   "metadata": {},
   "source": [
    "#### 1. and:\n",
    "The and operator returns True if both operands are True, and False otherwise.\n",
    "\n",
    "#### 2. or:\n",
    "The or operator returns True if at least one of the operands is True, and False otherwise.\n",
    "\n",
    "#### 3. not:\n",
    "The not operator returns the opposite Boolean value of the operand. If the operand is True, not returns False, and if the operand is False, not returns True."
   ]
  },
  {
   "cell_type": "markdown",
   "metadata": {},
   "source": [
    "### Q.4. Explain right shift operator and left shift operator with examples."
   ]
  },
  {
   "cell_type": "markdown",
   "metadata": {},
   "source": [
    "#### 1. Right Shift Operator (>>):\n",
    "The right shift operator (>>) shifts the bits of a binary representation of a number to the right by a specified number of positions.\n",
    "It's equivalent to dividing the number by 2 raised to the power of the specified shift count.\n",
    "The rightmost bits are shifted out, and the leftmost bits are filled with the sign bit (0 for positive numbers, 1 for negative numbers).\n",
    "Syntax: x >> y (shift the bits of x to the right by y positions)."
   ]
  },
  {
   "cell_type": "code",
   "execution_count": 12,
   "metadata": {},
   "outputs": [
    {
     "name": "stdout",
     "output_type": "stream",
     "text": [
      "2\n"
     ]
    }
   ],
   "source": [
    "# Right shift example\n",
    "num = 8\n",
    "shifted_num = num >> 2\n",
    "print(shifted_num)  # Output: 2\n"
   ]
  },
  {
   "cell_type": "markdown",
   "metadata": {},
   "source": [
    "#### 2. Left Shift Operator (<<):\n",
    "The left shift operator (<<) shifts the bits of a binary representation of a number to the left by a specified number of positions.\n",
    "It's equivalent to multiplying the number by 2 raised to the power of the specified shift count.\n",
    "The rightmost bits are filled with zeros, and the leftmost bits are shifted out.\n",
    "Syntax: x << y (shift the bits of x to the left by y positions)."
   ]
  },
  {
   "cell_type": "code",
   "execution_count": 13,
   "metadata": {},
   "outputs": [
    {
     "name": "stdout",
     "output_type": "stream",
     "text": [
      "16\n"
     ]
    }
   ],
   "source": [
    "# Left shift example\n",
    "num = 4\n",
    "shifted_num = num << 2\n",
    "print(shifted_num)  # Output: 16\n"
   ]
  },
  {
   "cell_type": "markdown",
   "metadata": {},
   "source": [
    "### Q.5. Create a list containing int type data of length 15. Then write a code to check if 10 is present in the list or not."
   ]
  },
  {
   "cell_type": "code",
   "execution_count": 15,
   "metadata": {},
   "outputs": [
    {
     "name": "stdout",
     "output_type": "stream",
     "text": [
      "10 is present in the list.\n"
     ]
    }
   ],
   "source": [
    "# Create a list of integers\n",
    "my_list = [2, 5, 8, 10, 15, 20, 25, 30, 35, 40, 45, 50, 55, 60, 65]\n",
    "\n",
    "# Check if 10 is present in the list\n",
    "if 10 in my_list:\n",
    "    print(\"10 is present in the list.\")\n",
    "else:\n",
    "    print(\"10 is not present in the list.\")\n"
   ]
  },
  {
   "cell_type": "code",
   "execution_count": null,
   "metadata": {},
   "outputs": [],
   "source": []
  }
 ],
 "metadata": {
  "kernelspec": {
   "display_name": "Python 3",
   "language": "python",
   "name": "python3"
  },
  "language_info": {
   "codemirror_mode": {
    "name": "ipython",
    "version": 3
   },
   "file_extension": ".py",
   "mimetype": "text/x-python",
   "name": "python",
   "nbconvert_exporter": "python",
   "pygments_lexer": "ipython3",
   "version": "3.8.5"
  }
 },
 "nbformat": 4,
 "nbformat_minor": 4
}
